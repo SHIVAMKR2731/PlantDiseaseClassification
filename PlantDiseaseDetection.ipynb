{
  "nbformat": 4,
  "nbformat_minor": 0,
  "metadata": {
    "colab": {
      "provenance": []
    },
    "kernelspec": {
      "name": "python3",
      "display_name": "Python 3"
    },
    "language_info": {
      "name": "python"
    }
  },
  "cells": [
    {
      "cell_type": "code",
      "execution_count": 1,
      "metadata": {
        "colab": {
          "base_uri": "https://localhost:8080/"
        },
        "id": "3WW-Tjs2UYy2",
        "outputId": "b3c62cd1-30d5-4958-da0c-40717075a074"
      },
      "outputs": [
        {
          "output_type": "stream",
          "name": "stdout",
          "text": [
            "Warning: Looks like you're using an outdated `kagglehub` version (installed: 0.3.9), please consider upgrading to the latest version (0.3.10).\n",
            "Downloading from https://www.kaggle.com/api/v1/datasets/download/vipoooool/new-plant-diseases-dataset?dataset_version_number=2...\n"
          ]
        },
        {
          "output_type": "stream",
          "name": "stderr",
          "text": [
            "100%|██████████| 2.70G/2.70G [00:23<00:00, 121MB/s]"
          ]
        },
        {
          "output_type": "stream",
          "name": "stdout",
          "text": [
            "Extracting files...\n"
          ]
        },
        {
          "output_type": "stream",
          "name": "stderr",
          "text": [
            "\n"
          ]
        },
        {
          "output_type": "stream",
          "name": "stdout",
          "text": [
            "Path to dataset files: /root/.cache/kagglehub/datasets/vipoooool/new-plant-diseases-dataset/versions/2\n"
          ]
        }
      ],
      "source": [
        "import kagglehub\n",
        "\n",
        "# Download latest version\n",
        "path = kagglehub.dataset_download(\"vipoooool/new-plant-diseases-dataset\")\n",
        "\n",
        "print(\"Path to dataset files:\", path)"
      ]
    },
    {
      "cell_type": "code",
      "source": [
        "# Importing necessary libraries\n",
        "import numpy as np\n",
        "import pandas as pd\n",
        "import matplotlib.pyplot as plt\n",
        "import tensorflow as tf\n",
        "import os\n",
        "import glob as gp\n",
        "import cv2\n"
      ],
      "metadata": {
        "id": "ZdnPOAVzVpPG"
      },
      "execution_count": 2,
      "outputs": []
    },
    {
      "cell_type": "code",
      "source": [
        "train ='/root/.cache/kagglehub/datasets/vipoooool/new-plant-diseases-dataset/versions/2/New Plant Diseases Dataset(Augmented)/New Plant Diseases Dataset(Augmented)/train'"
      ],
      "metadata": {
        "id": "0wZh-Q5CWwHE"
      },
      "execution_count": 15,
      "outputs": []
    },
    {
      "cell_type": "code",
      "source": [
        "\n",
        "size = 224\n",
        "#Import tensorflow and start the data augmentation.\n",
        "train_generator = tf.keras.preprocessing.image.ImageDataGenerator(\n",
        "    rotation_range=90,\n",
        "    width_shift_range=0.0,\n",
        "    height_shift_range=0.0,\n",
        "    shear_range=0.0,\n",
        "    zoom_range=0.0,\n",
        "    horizontal_flip=True,\n",
        "    vertical_flip=True,\n",
        "    rescale=1./255,\n",
        "    preprocessing_function=None,\n",
        "    validation_split=0.1\n",
        ").flow_from_directory(\n",
        "    train,\n",
        "    target_size=(size,size),\n",
        "    batch_size=164,\n",
        "    class_mode='categorical',\n",
        "    color_mode='rgb',\n",
        "    subset='training',\n",
        "    shuffle=True\n",
        ")"
      ],
      "metadata": {
        "colab": {
          "base_uri": "https://localhost:8080/"
        },
        "id": "AiEylSkliux0",
        "outputId": "21d7feb1-bc9a-4296-f8a7-38b2775fee7c"
      },
      "execution_count": 16,
      "outputs": [
        {
          "output_type": "stream",
          "name": "stdout",
          "text": [
            "Found 63282 images belonging to 38 classes.\n"
          ]
        }
      ]
    },
    {
      "cell_type": "code",
      "source": [
        "train_generator.class_indices"
      ],
      "metadata": {
        "colab": {
          "base_uri": "https://localhost:8080/"
        },
        "id": "DIs72xSckbff",
        "outputId": "168fb2b3-dbdb-4df5-f11d-142a6c7096f2"
      },
      "execution_count": 17,
      "outputs": [
        {
          "output_type": "execute_result",
          "data": {
            "text/plain": [
              "{'Apple___Apple_scab': 0,\n",
              " 'Apple___Black_rot': 1,\n",
              " 'Apple___Cedar_apple_rust': 2,\n",
              " 'Apple___healthy': 3,\n",
              " 'Blueberry___healthy': 4,\n",
              " 'Cherry_(including_sour)___Powdery_mildew': 5,\n",
              " 'Cherry_(including_sour)___healthy': 6,\n",
              " 'Corn_(maize)___Cercospora_leaf_spot Gray_leaf_spot': 7,\n",
              " 'Corn_(maize)___Common_rust_': 8,\n",
              " 'Corn_(maize)___Northern_Leaf_Blight': 9,\n",
              " 'Corn_(maize)___healthy': 10,\n",
              " 'Grape___Black_rot': 11,\n",
              " 'Grape___Esca_(Black_Measles)': 12,\n",
              " 'Grape___Leaf_blight_(Isariopsis_Leaf_Spot)': 13,\n",
              " 'Grape___healthy': 14,\n",
              " 'Orange___Haunglongbing_(Citrus_greening)': 15,\n",
              " 'Peach___Bacterial_spot': 16,\n",
              " 'Peach___healthy': 17,\n",
              " 'Pepper,_bell___Bacterial_spot': 18,\n",
              " 'Pepper,_bell___healthy': 19,\n",
              " 'Potato___Early_blight': 20,\n",
              " 'Potato___Late_blight': 21,\n",
              " 'Potato___healthy': 22,\n",
              " 'Raspberry___healthy': 23,\n",
              " 'Soybean___healthy': 24,\n",
              " 'Squash___Powdery_mildew': 25,\n",
              " 'Strawberry___Leaf_scorch': 26,\n",
              " 'Strawberry___healthy': 27,\n",
              " 'Tomato___Bacterial_spot': 28,\n",
              " 'Tomato___Early_blight': 29,\n",
              " 'Tomato___Late_blight': 30,\n",
              " 'Tomato___Leaf_Mold': 31,\n",
              " 'Tomato___Septoria_leaf_spot': 32,\n",
              " 'Tomato___Spider_mites Two-spotted_spider_mite': 33,\n",
              " 'Tomato___Target_Spot': 34,\n",
              " 'Tomato___Tomato_Yellow_Leaf_Curl_Virus': 35,\n",
              " 'Tomato___Tomato_mosaic_virus': 36,\n",
              " 'Tomato___healthy': 37}"
            ]
          },
          "metadata": {},
          "execution_count": 17
        }
      ]
    },
    {
      "cell_type": "code",
      "source": [
        "# Display some images\n",
        "classes = list(train_generator.class_indices.keys())\n",
        "plt.figure(figsize=(20,20))\n",
        "for X_batch, y_batch in train_generator:\n",
        "    for i in range(0,16):\n",
        "        plt.subplot(4,4,i+1)\n",
        "        plt.imshow(X_batch[i])\n",
        "        plt.title(classes[np.where(y_batch[i]==1)[0][0]])\n",
        "        plt.grid(None)\n",
        "        plt.show()\n",
        "        break"
      ],
      "metadata": {
        "id": "ywhqLDalvic8"
      },
      "execution_count": 21,
      "outputs": []
    },
    {
      "cell_type": "code",
      "source": [
        "valid='/root/.cache/kagglehub/datasets/vipoooool/new-plant-diseases-dataset/versions/2/New Plant Diseases Dataset(Augmented)/New Plant Diseases Dataset(Augmented)/valid'"
      ],
      "metadata": {
        "id": "heRuilq1tYcH"
      },
      "execution_count": 22,
      "outputs": []
    },
    {
      "cell_type": "code",
      "source": [
        "valid_generator = tf.keras.preprocessing.image.ImageDataGenerator(\n",
        "    rescale=1/255.0,\n",
        "    preprocessing_function=None,\n",
        "    validation_split=0.1\n",
        ").flow_from_directory(valid,\n",
        "                      batch_size=164,\n",
        "                      target_size=(size,size),\n",
        "                      class_mode='categorical',\n",
        "                      color_mode='rgb',\n",
        "                      subset='validation',\n",
        "                      shuffle=False)\n"
      ],
      "metadata": {
        "colab": {
          "base_uri": "https://localhost:8080/"
        },
        "id": "HlhCMV0VE94Y",
        "outputId": "4311bc77-805c-476a-95d5-ef680af6c808"
      },
      "execution_count": 23,
      "outputs": [
        {
          "output_type": "stream",
          "name": "stdout",
          "text": [
            "Found 1742 images belonging to 38 classes.\n"
          ]
        }
      ]
    },
    {
      "cell_type": "code",
      "source": [
        "test='/root/.cache/kagglehub/datasets/vipoooool/new-plant-diseases-dataset/versions/2/New Plant Diseases Dataset(Augmented)/New Plant Diseases Dataset(Augmented)/valid'\n",
        "test_generator = tf.keras.preprocessing.image.ImageDataGenerator(\n",
        "    rescale=1/255.0,\n",
        "    preprocessing_function=None\n",
        ").flow_from_directory(test,\n",
        "                      batch_size=164,\n",
        "                      target_size=(224,224),\n",
        "                      color_mode='rgb',\n",
        "                      class_mode='categorical',\n",
        "                      shuffle=False)"
      ],
      "metadata": {
        "colab": {
          "base_uri": "https://localhost:8080/"
        },
        "id": "sj8-1e_MGiia",
        "outputId": "d7658988-d14d-4853-e9c4-c1e995f9c9d2"
      },
      "execution_count": 24,
      "outputs": [
        {
          "output_type": "stream",
          "name": "stdout",
          "text": [
            "Found 17572 images belonging to 38 classes.\n"
          ]
        }
      ]
    },
    {
      "cell_type": "code",
      "source": [
        "test_generator.class_indices"
      ],
      "metadata": {
        "colab": {
          "base_uri": "https://localhost:8080/"
        },
        "id": "OsysSay0Hutg",
        "outputId": "dabf5876-2435-4a94-96a8-1f65f8e8ab19"
      },
      "execution_count": 25,
      "outputs": [
        {
          "output_type": "execute_result",
          "data": {
            "text/plain": [
              "{'Apple___Apple_scab': 0,\n",
              " 'Apple___Black_rot': 1,\n",
              " 'Apple___Cedar_apple_rust': 2,\n",
              " 'Apple___healthy': 3,\n",
              " 'Blueberry___healthy': 4,\n",
              " 'Cherry_(including_sour)___Powdery_mildew': 5,\n",
              " 'Cherry_(including_sour)___healthy': 6,\n",
              " 'Corn_(maize)___Cercospora_leaf_spot Gray_leaf_spot': 7,\n",
              " 'Corn_(maize)___Common_rust_': 8,\n",
              " 'Corn_(maize)___Northern_Leaf_Blight': 9,\n",
              " 'Corn_(maize)___healthy': 10,\n",
              " 'Grape___Black_rot': 11,\n",
              " 'Grape___Esca_(Black_Measles)': 12,\n",
              " 'Grape___Leaf_blight_(Isariopsis_Leaf_Spot)': 13,\n",
              " 'Grape___healthy': 14,\n",
              " 'Orange___Haunglongbing_(Citrus_greening)': 15,\n",
              " 'Peach___Bacterial_spot': 16,\n",
              " 'Peach___healthy': 17,\n",
              " 'Pepper,_bell___Bacterial_spot': 18,\n",
              " 'Pepper,_bell___healthy': 19,\n",
              " 'Potato___Early_blight': 20,\n",
              " 'Potato___Late_blight': 21,\n",
              " 'Potato___healthy': 22,\n",
              " 'Raspberry___healthy': 23,\n",
              " 'Soybean___healthy': 24,\n",
              " 'Squash___Powdery_mildew': 25,\n",
              " 'Strawberry___Leaf_scorch': 26,\n",
              " 'Strawberry___healthy': 27,\n",
              " 'Tomato___Bacterial_spot': 28,\n",
              " 'Tomato___Early_blight': 29,\n",
              " 'Tomato___Late_blight': 30,\n",
              " 'Tomato___Leaf_Mold': 31,\n",
              " 'Tomato___Septoria_leaf_spot': 32,\n",
              " 'Tomato___Spider_mites Two-spotted_spider_mite': 33,\n",
              " 'Tomato___Target_Spot': 34,\n",
              " 'Tomato___Tomato_Yellow_Leaf_Curl_Virus': 35,\n",
              " 'Tomato___Tomato_mosaic_virus': 36,\n",
              " 'Tomato___healthy': 37}"
            ]
          },
          "metadata": {},
          "execution_count": 25
        }
      ]
    }
  ]
}